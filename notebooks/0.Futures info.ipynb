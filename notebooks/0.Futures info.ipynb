{
 "cells": [
  {
   "cell_type": "code",
   "execution_count": null,
   "metadata": {},
   "outputs": [],
   "source": [
    "import ivolatility as ivol\n",
    "import pandas as pd\n",
    "import os\n",
    "\n",
    "\n",
    "ivolApiKey = os.getenv('API_KEY')\n",
    "ivol.setLoginParams(apiKey=ivolApiKey)\n",
    "\n",
    "pd.set_option('display.max_rows', None)\n",
    "\n",
    "# For example we have a task to find \"Gold\"\n",
    "getFutData = ivol.setMethod('/futures/eod/futures-info')\n",
    "futDataRaw = getFutData(date='2025-04-01',underlyingName='Gold')\n",
    "\n",
    "futDataRaw\n"
   ]
  }
 ],
 "metadata": {
  "language_info": {
   "name": "python"
  }
 },
 "nbformat": 4,
 "nbformat_minor": 2
}
