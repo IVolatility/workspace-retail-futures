{
 "cells": [
  {
   "cell_type": "code",
   "execution_count": null,
   "metadata": {},
   "outputs": [],
   "source": [
    "import ivolatility as ivol\n",
    "import os\n",
    "\n",
    "ivolApiKey = os.getenv('API_KEY')\n",
    "ivol.setLoginParams(apiKey=ivolApiKey)\n",
    "\n",
    "getMarketData = ivol.setMethod(\"/futures/eod/ivx\")\n",
    "\n",
    "tickers = 'ES,GC,CT'\n",
    "\n",
    "marketData = getMarketData(\n",
    "    symbol=tickers, date='2025-04-14'\n",
    ")\n",
    "\n",
    "marketData"
   ]
  }
 ],
 "metadata": {
  "language_info": {
   "name": "python"
  }
 },
 "nbformat": 4,
 "nbformat_minor": 2
}
